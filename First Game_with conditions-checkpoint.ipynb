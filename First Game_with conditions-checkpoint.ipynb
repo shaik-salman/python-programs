{
 "cells": [
  {
   "cell_type": "code",
   "execution_count": 28,
   "metadata": {},
   "outputs": [
    {
     "name": "stdout",
     "output_type": "stream",
     "text": [
      "Hello there!, Thi is Salman. Thanks for taking out your time to look out my program\n",
      "What is your name? sa\n",
      "What is your age? 19\n",
      "You are old enough to play!\n",
      "Do you want to play?(yes/no) yes\n",
      "You are starting with 10 health\n",
      "Lets play!\n",
      "First choice.. Left or RIght (left/right)? left\n",
      "Nice, you  follow the path and reached a lake.. do you swim across or go around(across/around)? around\n",
      "You went arount and reached the other side if the lake.\n",
      "You notice a house and a river. Which do you go to (river/house)? house\n",
      "you go to house and are greeted by the owneer..he dosent like you and hit you  and you loose 5 health\n",
      "Hurray!, You have survived...YOU WIN!!\n"
     ]
    }
   ],
   "source": [
    "print(\"Hello there!, Thi is Salman. Thanks for taking out your time to look out my program\")\n",
    "\n",
    "name = input(\"What is your name? \")#this will take input  for name from user\n",
    "age = int(input(\"What is your age? \"))#int will take the input in int type else if not mentioned then this will take default as string\n",
    "health = 10\n",
    "\n",
    "if age >= 18:  #condition that age should be greated than 18 to eligible to play this game\n",
    "    print(\"You are old enough to play!\")\n",
    "    \n",
    "    wants_to_play= input(\"Do you want to play?(yes/no) \").lower() #this will convert the answer to samll by applyinng lower() method\n",
    "    if wants_to_play == \"yes\":#this will accept only yes as anser,No is return in else condition down\n",
    "        print(\"You are starting with\", health,\"health\")\n",
    "        print(\"Lets play!\")\n",
    "        \n",
    "        left_or_right= input(\"First choice.. Left or RIght (left/right)? \")#Direction which you want to move\n",
    "        if left_or_right == \"left\":#condition if you have choosen the direction\n",
    "            #below is the next move to choose, if the above condition is satisfied\n",
    "            ans = input(\"Nice, you  follow the path and reached a lake.. do you swim across or go around(across/around)? \")\n",
    "            if ans == \"around\":#condition 1, below is the result of the choice\n",
    "                print(\"You went arount and reached the other side if the lake.\")\n",
    "            elif ans == \"across\":#condition 2 below is the result for the decision choosen\n",
    "                print(\"You manged to get across, but were bit by a fish and lost 5 health.\")\n",
    "                health -=5  #reducing the health from the stored one\n",
    "            ans = input(\"You notice a house and a river. Which do you go to (river/house)? \")\n",
    "            \n",
    "            if ans ==\"house\":\n",
    "                print(\"you go to house and are greeted by the owneer..he dosent like you and hit you  and you loose 5 health\")\n",
    "                health -=5 #reducing the health from the stored one\n",
    "                if health <= 0:  # id the variable health is 0 then further cannot be played\n",
    "                    print(\"OMG!, You now have 0 health and you lost the game..\")\n",
    "                else:\n",
    "                    print(\"Hurray!, You have survived...YOU WIN!!\")\n",
    "            else:\n",
    "                print(\"OH!, You fell in the river and lost...\")\n",
    "                health -=5\n",
    "                print(\"Your Health is\",health)\n",
    "        else:\n",
    "            print(\"OOPPs!!, You fell down and lost...\")\n",
    "    else:\n",
    "        print(\"CYA....Do play in your free time\")\n",
    "else:\n",
    "    print(\"You are not old enough to play, Come back again after turning 18\")       \n",
    "            \n",
    "        \n",
    "          "
   ]
  },
  {
   "cell_type": "code",
   "execution_count": null,
   "metadata": {},
   "outputs": [],
   "source": []
  }
 ],
 "metadata": {
  "kernelspec": {
   "display_name": "Python 3",
   "language": "python",
   "name": "python3"
  },
  "language_info": {
   "codemirror_mode": {
    "name": "ipython",
    "version": 3
   },
   "file_extension": ".py",
   "mimetype": "text/x-python",
   "name": "python",
   "nbconvert_exporter": "python",
   "pygments_lexer": "ipython3",
   "version": "3.8.3"
  }
 },
 "nbformat": 4,
 "nbformat_minor": 4
}
